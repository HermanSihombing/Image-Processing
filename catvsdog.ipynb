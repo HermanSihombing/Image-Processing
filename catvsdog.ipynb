{
 "cells": [
  {
   "cell_type": "code",
   "execution_count": 1,
   "metadata": {},
   "outputs": [],
   "source": [
    "import os\n",
    "import zipfile\n",
    "import random\n",
    "import tensorflow as tf\n",
    "from tensorflow.keras.optimizers import RMSprop\n",
    "from tensorflow.keras.preprocessing.image import ImageDataGenerator\n",
    "from shutil import copyfile"
   ]
  },
  {
   "cell_type": "code",
   "execution_count": 2,
   "metadata": {},
   "outputs": [],
   "source": [
    "local_zip = 'catdog.zip'\n",
    "zip_ref   = zipfile.ZipFile(local_zip, 'r')\n",
    "zip_ref.extractall('/dataset')\n",
    "zip_ref.close()"
   ]
  },
  {
   "cell_type": "code",
   "execution_count": 3,
   "metadata": {},
   "outputs": [
    {
     "name": "stdout",
     "output_type": "stream",
     "text": [
      "12501\n",
      "12501\n"
     ]
    }
   ],
   "source": [
    "print(len(os.listdir('/dataset/PetImages/Cat/')))\n",
    "print(len(os.listdir('/dataset/PetImages/Dog/')))"
   ]
  },
  {
   "cell_type": "code",
   "execution_count": 6,
   "metadata": {},
   "outputs": [],
   "source": [
    "try:\n",
    "    os.mkdir('dataset/cats-v-dogs')\n",
    "    os.mkdir('dataset/cats-v-dogs/training')\n",
    "    os.mkdir('dataset/cats-v-dogs/testing')\n",
    "    os.mkdir('dataset/cats-v-dogs/training/cats')\n",
    "    os.mkdir('dataset/cats-v-dogs/training/dogs')\n",
    "    os.mkdir('dataset/cats-v-dogs/testing/cats')\n",
    "    os.mkdir('dataset/cats-v-dogs/testing/dogs')\n",
    "except OSError:\n",
    "    pass"
   ]
  },
  {
   "cell_type": "code",
   "execution_count": 7,
   "metadata": {},
   "outputs": [
    {
     "name": "stdout",
     "output_type": "stream",
     "text": [
      "666.jpg is zero length, so ignoring.\n",
      "11702.jpg is zero length, so ignoring.\n"
     ]
    }
   ],
   "source": [
    "def split_data(SOURCE, TRAINING, TESTING, SPLIT_SIZE):\n",
    "    files = []\n",
    "    for filename in os.listdir(SOURCE):\n",
    "        file = SOURCE + filename\n",
    "        if os.path.getsize(file) > 0:\n",
    "            files.append(filename)\n",
    "        else:\n",
    "            print(filename + \" is zero length, so ignoring.\")\n",
    "\n",
    "    training_length = int(len(files) * SPLIT_SIZE)\n",
    "    testing_length = int(len(files) - training_length)\n",
    "    shuffled_set = random.sample(files, len(files))\n",
    "    training_set = shuffled_set[0:training_length]\n",
    "    testing_set = shuffled_set[-testing_length:]\n",
    "\n",
    "    for filename in training_set:\n",
    "        this_file = SOURCE + filename\n",
    "        destination = TRAINING + filename\n",
    "        copyfile(this_file, destination)\n",
    "\n",
    "    for filename in testing_set:\n",
    "        this_file = SOURCE + filename\n",
    "        destination = TESTING + filename\n",
    "        copyfile(this_file, destination)\n",
    "\n",
    "\n",
    "CAT_SOURCE_DIR = \"dataset/PetImages/Cat/\"\n",
    "TRAINING_CATS_DIR = \"dataset/cats-v-dogs/training/cats/\"\n",
    "TESTING_CATS_DIR = \"dataset/cats-v-dogs/testing/cats/\"\n",
    "DOG_SOURCE_DIR = \"dataset/PetImages/Dog/\"\n",
    "TRAINING_DOGS_DIR = \"dataset/cats-v-dogs/training/dogs/\"\n",
    "TESTING_DOGS_DIR = \"dataset/cats-v-dogs/testing/dogs/\"\n",
    "\n",
    "split_size = .9\n",
    "split_data(CAT_SOURCE_DIR, TRAINING_CATS_DIR, TESTING_CATS_DIR, split_size)\n",
    "split_data(DOG_SOURCE_DIR, TRAINING_DOGS_DIR, TESTING_DOGS_DIR, split_size)"
   ]
  },
  {
   "cell_type": "code",
   "execution_count": 8,
   "metadata": {},
   "outputs": [
    {
     "name": "stdout",
     "output_type": "stream",
     "text": [
      "11250\n",
      "11250\n",
      "1250\n",
      "1250\n"
     ]
    }
   ],
   "source": [
    "print(len(os.listdir('dataset/cats-v-dogs/training/cats/')))\n",
    "print(len(os.listdir('dataset/cats-v-dogs/training/dogs/')))\n",
    "print(len(os.listdir('dataset/cats-v-dogs/testing/cats/')))\n",
    "print(len(os.listdir('dataset/cats-v-dogs/testing/dogs/')))"
   ]
  },
  {
   "cell_type": "code",
   "execution_count": 9,
   "metadata": {},
   "outputs": [],
   "source": [
    "model = tf.keras.models.Sequential([\n",
    "    tf.keras.layers.Conv2D(16, (3, 3), activation='relu', input_shape=(150, 150, 3)),\n",
    "    tf.keras.layers.MaxPooling2D(2, 2),\n",
    "    tf.keras.layers.Conv2D(32, (3, 3), activation='relu'),\n",
    "    tf.keras.layers.MaxPooling2D(2, 2),\n",
    "    tf.keras.layers.Conv2D(64, (3, 3), activation='relu'),\n",
    "    tf.keras.layers.MaxPooling2D(2, 2),\n",
    "    tf.keras.layers.Flatten(),\n",
    "    tf.keras.layers.Dense(512, activation='relu'),\n",
    "    tf.keras.layers.Dense(1, activation='sigmoid')\n",
    "])\n",
    "\n",
    "model.compile(optimizer=RMSprop(lr=0.001), loss='binary_crossentropy', metrics=['acc'])"
   ]
  },
  {
   "cell_type": "code",
   "execution_count": 10,
   "metadata": {},
   "outputs": [
    {
     "name": "stdout",
     "output_type": "stream",
     "text": [
      "Found 22498 images belonging to 2 classes.\n",
      "Found 2500 images belonging to 2 classes.\n"
     ]
    }
   ],
   "source": [
    "TRAINING_DIR = \"dataset/cats-v-dogs/training/\"\n",
    "train_datagen = ImageDataGenerator(rescale=1.0/255.)\n",
    "train_generator = train_datagen.flow_from_directory(TRAINING_DIR,\n",
    "                                                    batch_size=100,\n",
    "                                                    class_mode='binary',\n",
    "                                                    target_size=(150, 150))\n",
    "\n",
    "VALIDATION_DIR = \"dataset/cats-v-dogs/testing/\"\n",
    "validation_datagen = ImageDataGenerator(rescale=1.0/255.)\n",
    "validation_generator = validation_datagen.flow_from_directory(VALIDATION_DIR,\n",
    "                                                              batch_size=100,\n",
    "                                                              class_mode='binary',\n",
    "                                                              target_size=(150, 150))"
   ]
  },
  {
   "cell_type": "code",
   "execution_count": 11,
   "metadata": {},
   "outputs": [
    {
     "name": "stdout",
     "output_type": "stream",
     "text": [
      "WARNING:tensorflow:From <ipython-input-11-318500b946fb>:4: Model.fit_generator (from tensorflow.python.keras.engine.training) is deprecated and will be removed in a future version.\n",
      "Instructions for updating:\n",
      "Please use Model.fit, which supports generators.\n",
      "WARNING:tensorflow:sample_weight modes were coerced from\n",
      "  ...\n",
      "    to  \n",
      "  ['...']\n",
      "WARNING:tensorflow:sample_weight modes were coerced from\n",
      "  ...\n",
      "    to  \n",
      "  ['...']\n",
      "Train for 225 steps, validate for 25 steps\n",
      "Epoch 1/50\n",
      " 47/225 [=====>........................] - ETA: 2:40 - loss: 0.8354 - acc: 0.5674"
     ]
    },
    {
     "name": "stderr",
     "output_type": "stream",
     "text": [
      "C:\\Users\\Herman\\anaconda3\\envs\\tf-gpu\\lib\\site-packages\\PIL\\TiffImagePlugin.py:766: UserWarning: Possibly corrupt EXIF data.  Expecting to read 32 bytes but only got 0. Skipping tag 270\n",
      "  \" Skipping tag %s\" % (size, len(data), tag)\n",
      "C:\\Users\\Herman\\anaconda3\\envs\\tf-gpu\\lib\\site-packages\\PIL\\TiffImagePlugin.py:766: UserWarning: Possibly corrupt EXIF data.  Expecting to read 5 bytes but only got 0. Skipping tag 271\n",
      "  \" Skipping tag %s\" % (size, len(data), tag)\n",
      "C:\\Users\\Herman\\anaconda3\\envs\\tf-gpu\\lib\\site-packages\\PIL\\TiffImagePlugin.py:766: UserWarning: Possibly corrupt EXIF data.  Expecting to read 8 bytes but only got 0. Skipping tag 272\n",
      "  \" Skipping tag %s\" % (size, len(data), tag)\n",
      "C:\\Users\\Herman\\anaconda3\\envs\\tf-gpu\\lib\\site-packages\\PIL\\TiffImagePlugin.py:766: UserWarning: Possibly corrupt EXIF data.  Expecting to read 8 bytes but only got 0. Skipping tag 282\n",
      "  \" Skipping tag %s\" % (size, len(data), tag)\n",
      "C:\\Users\\Herman\\anaconda3\\envs\\tf-gpu\\lib\\site-packages\\PIL\\TiffImagePlugin.py:766: UserWarning: Possibly corrupt EXIF data.  Expecting to read 8 bytes but only got 0. Skipping tag 283\n",
      "  \" Skipping tag %s\" % (size, len(data), tag)\n",
      "C:\\Users\\Herman\\anaconda3\\envs\\tf-gpu\\lib\\site-packages\\PIL\\TiffImagePlugin.py:766: UserWarning: Possibly corrupt EXIF data.  Expecting to read 20 bytes but only got 0. Skipping tag 306\n",
      "  \" Skipping tag %s\" % (size, len(data), tag)\n",
      "C:\\Users\\Herman\\anaconda3\\envs\\tf-gpu\\lib\\site-packages\\PIL\\TiffImagePlugin.py:766: UserWarning: Possibly corrupt EXIF data.  Expecting to read 48 bytes but only got 0. Skipping tag 532\n",
      "  \" Skipping tag %s\" % (size, len(data), tag)\n",
      "C:\\Users\\Herman\\anaconda3\\envs\\tf-gpu\\lib\\site-packages\\PIL\\TiffImagePlugin.py:785: UserWarning: Corrupt EXIF data.  Expecting to read 2 bytes but only got 0. \n",
      "  warnings.warn(str(msg))\n"
     ]
    },
    {
     "name": "stdout",
     "output_type": "stream",
     "text": [
      "225/225 [==============================] - 161s 717ms/step - loss: 0.6555 - acc: 0.6514 - val_loss: 0.5411 - val_acc: 0.7244\n",
      "Epoch 2/50\n",
      "225/225 [==============================] - 146s 649ms/step - loss: 0.4977 - acc: 0.7590 - val_loss: 0.4632 - val_acc: 0.7788\n",
      "Epoch 3/50\n",
      "225/225 [==============================] - 148s 657ms/step - loss: 0.4260 - acc: 0.8028 - val_loss: 0.4455 - val_acc: 0.7948\n",
      "Epoch 4/50\n",
      "225/225 [==============================] - 147s 653ms/step - loss: 0.3638 - acc: 0.8347 - val_loss: 0.4245 - val_acc: 0.8124\n",
      "Epoch 5/50\n",
      "225/225 [==============================] - 148s 659ms/step - loss: 0.3021 - acc: 0.8689 - val_loss: 0.4164 - val_acc: 0.8172\n",
      "Epoch 6/50\n",
      "225/225 [==============================] - 148s 656ms/step - loss: 0.2398 - acc: 0.8997 - val_loss: 0.4604 - val_acc: 0.8320\n",
      "Epoch 7/50\n",
      "225/225 [==============================] - 149s 664ms/step - loss: 0.1669 - acc: 0.9334 - val_loss: 0.5053 - val_acc: 0.8204\n",
      "Epoch 8/50\n",
      "225/225 [==============================] - 148s 656ms/step - loss: 0.1226 - acc: 0.9547 - val_loss: 0.6195 - val_acc: 0.8156\n",
      "Epoch 9/50\n",
      "225/225 [==============================] - 148s 660ms/step - loss: 0.0827 - acc: 0.9708 - val_loss: 0.6822 - val_acc: 0.8256\n",
      "Epoch 10/50\n",
      "225/225 [==============================] - 149s 663ms/step - loss: 0.0610 - acc: 0.9810 - val_loss: 0.7007 - val_acc: 0.8296\n",
      "Epoch 11/50\n",
      "225/225 [==============================] - 148s 658ms/step - loss: 0.0581 - acc: 0.9818 - val_loss: 0.8921 - val_acc: 0.8268\n",
      "Epoch 12/50\n",
      "225/225 [==============================] - 148s 660ms/step - loss: 0.0377 - acc: 0.9888 - val_loss: 1.2501 - val_acc: 0.7824\n",
      "Epoch 13/50\n",
      "225/225 [==============================] - 102s 452ms/step - loss: 0.0387 - acc: 0.9882 - val_loss: 1.0742 - val_acc: 0.8216\n",
      "Epoch 14/50\n",
      "225/225 [==============================] - 54s 241ms/step - loss: 0.0427 - acc: 0.9884 - val_loss: 1.2328 - val_acc: 0.8156\n",
      "Epoch 15/50\n",
      "225/225 [==============================] - 54s 242ms/step - loss: 0.0375 - acc: 0.9908 - val_loss: 1.1730 - val_acc: 0.8160\n",
      "Epoch 16/50\n",
      "225/225 [==============================] - 54s 242ms/step - loss: 0.0419 - acc: 0.9895 - val_loss: 1.2964 - val_acc: 0.8172\n",
      "Epoch 17/50\n",
      "225/225 [==============================] - 54s 242ms/step - loss: 0.0489 - acc: 0.9901 - val_loss: 1.2991 - val_acc: 0.8164\n",
      "Epoch 18/50\n",
      "225/225 [==============================] - 55s 246ms/step - loss: 0.0579 - acc: 0.9852 - val_loss: 0.7326 - val_acc: 0.7832\n",
      "Epoch 19/50\n",
      "225/225 [==============================] - 55s 244ms/step - loss: 0.0585 - acc: 0.9888 - val_loss: 1.0112 - val_acc: 0.8088\n",
      "Epoch 20/50\n",
      "225/225 [==============================] - 55s 245ms/step - loss: 0.0356 - acc: 0.9916 - val_loss: 1.3509 - val_acc: 0.8192\n",
      "Epoch 21/50\n",
      "225/225 [==============================] - 55s 246ms/step - loss: 0.0418 - acc: 0.9902 - val_loss: 1.5402 - val_acc: 0.8164\n",
      "Epoch 22/50\n",
      "225/225 [==============================] - 55s 246ms/step - loss: 0.0472 - acc: 0.9890 - val_loss: 1.0636 - val_acc: 0.8104\n",
      "Epoch 23/50\n",
      "225/225 [==============================] - 55s 245ms/step - loss: 0.0302 - acc: 0.9926 - val_loss: 1.5602 - val_acc: 0.8168\n",
      "Epoch 24/50\n",
      "225/225 [==============================] - 55s 246ms/step - loss: 0.0596 - acc: 0.9883 - val_loss: 1.2850 - val_acc: 0.8184\n",
      "Epoch 25/50\n",
      "225/225 [==============================] - 55s 246ms/step - loss: 0.0558 - acc: 0.9875 - val_loss: 1.3062 - val_acc: 0.8112\n",
      "Epoch 26/50\n",
      "225/225 [==============================] - 56s 248ms/step - loss: 0.0416 - acc: 0.9892 - val_loss: 1.3108 - val_acc: 0.8160\n",
      "Epoch 27/50\n",
      "225/225 [==============================] - 57s 252ms/step - loss: 0.0408 - acc: 0.9901 - val_loss: 1.8627 - val_acc: 0.7900\n",
      "Epoch 28/50\n",
      "225/225 [==============================] - 55s 245ms/step - loss: 0.0487 - acc: 0.9901 - val_loss: 1.4802 - val_acc: 0.8076\n",
      "Epoch 29/50\n",
      "225/225 [==============================] - 55s 246ms/step - loss: 0.0499 - acc: 0.9880 - val_loss: 1.1145 - val_acc: 0.7932\n",
      "Epoch 30/50\n",
      "225/225 [==============================] - 56s 247ms/step - loss: 0.0453 - acc: 0.9885 - val_loss: 1.5976 - val_acc: 0.8132\n",
      "Epoch 31/50\n",
      "225/225 [==============================] - 55s 246ms/step - loss: 0.0491 - acc: 0.9895 - val_loss: 1.0688 - val_acc: 0.7908\n",
      "Epoch 32/50\n",
      "225/225 [==============================] - 56s 248ms/step - loss: 0.0536 - acc: 0.9885 - val_loss: 1.5475 - val_acc: 0.8136\n",
      "Epoch 33/50\n",
      "225/225 [==============================] - 55s 247ms/step - loss: 0.0576 - acc: 0.9876 - val_loss: 1.6326 - val_acc: 0.8136\n",
      "Epoch 34/50\n",
      "225/225 [==============================] - 56s 247ms/step - loss: 0.0835 - acc: 0.9808 - val_loss: 1.4857 - val_acc: 0.8104\n",
      "Epoch 35/50\n",
      "225/225 [==============================] - 56s 247ms/step - loss: 0.0420 - acc: 0.9872 - val_loss: 1.7798 - val_acc: 0.8008\n",
      "Epoch 36/50\n",
      "225/225 [==============================] - 56s 247ms/step - loss: 0.0709 - acc: 0.9831 - val_loss: 2.1792 - val_acc: 0.8100\n",
      "Epoch 37/50\n",
      "225/225 [==============================] - 56s 247ms/step - loss: 0.0531 - acc: 0.9871 - val_loss: 1.1588 - val_acc: 0.7932\n",
      "Epoch 38/50\n",
      "225/225 [==============================] - 55s 246ms/step - loss: 0.0563 - acc: 0.9848 - val_loss: 1.5764 - val_acc: 0.8108\n",
      "Epoch 39/50\n",
      "225/225 [==============================] - 56s 247ms/step - loss: 0.0688 - acc: 0.9837 - val_loss: 1.6543 - val_acc: 0.8104\n",
      "Epoch 40/50\n",
      "225/225 [==============================] - 56s 248ms/step - loss: 0.0643 - acc: 0.9837 - val_loss: 1.7484 - val_acc: 0.8100\n",
      "Epoch 41/50\n",
      "225/225 [==============================] - 56s 247ms/step - loss: 0.0683 - acc: 0.9861 - val_loss: 2.2556 - val_acc: 0.7884\n",
      "Epoch 42/50\n",
      "225/225 [==============================] - 56s 248ms/step - loss: 0.0710 - acc: 0.9838 - val_loss: 2.1604 - val_acc: 0.8084\n",
      "Epoch 43/50\n",
      "225/225 [==============================] - 55s 246ms/step - loss: 0.0759 - acc: 0.9843 - val_loss: 1.8484 - val_acc: 0.8176\n",
      "Epoch 44/50\n",
      "225/225 [==============================] - 57s 252ms/step - loss: 0.1118 - acc: 0.9796 - val_loss: 1.2880 - val_acc: 0.8084\n",
      "Epoch 45/50\n",
      "225/225 [==============================] - 55s 246ms/step - loss: 0.1069 - acc: 0.9796 - val_loss: 1.3771 - val_acc: 0.8044\n",
      "Epoch 46/50\n",
      "225/225 [==============================] - 56s 247ms/step - loss: 0.0587 - acc: 0.9862 - val_loss: 2.8214 - val_acc: 0.7888\n",
      "Epoch 47/50\n",
      "225/225 [==============================] - 56s 247ms/step - loss: 0.1054 - acc: 0.9813 - val_loss: 1.7351 - val_acc: 0.8072\n",
      "Epoch 48/50\n",
      "225/225 [==============================] - 56s 247ms/step - loss: 0.0852 - acc: 0.9797 - val_loss: 2.3635 - val_acc: 0.7592\n",
      "Epoch 49/50\n",
      "225/225 [==============================] - 56s 248ms/step - loss: 0.0948 - acc: 0.9811 - val_loss: 1.9471 - val_acc: 0.7992\n",
      "Epoch 50/50\n",
      "225/225 [==============================] - 56s 248ms/step - loss: 0.0979 - acc: 0.9772 - val_loss: 1.7314 - val_acc: 0.8032\n"
     ]
    }
   ],
   "source": [
    "history = model.fit_generator(train_generator,\n",
    "                              epochs=50,\n",
    "                              verbose=1,\n",
    "                              validation_data=validation_generator)"
   ]
  },
  {
   "cell_type": "code",
   "execution_count": 12,
   "metadata": {},
   "outputs": [
    {
     "data": {
      "text/plain": [
       "<Figure size 432x288 with 0 Axes>"
      ]
     },
     "execution_count": 12,
     "metadata": {},
     "output_type": "execute_result"
    },
    {
     "data": {
      "image/png": "[encoded data removed]",
      "text/plain": [
       "<Figure size 432x288 with 1 Axes>"
      ]
     },
     "metadata": {
      "needs_background": "light"
     },
     "output_type": "display_data"
    },
    {
     "data": {
      "image/png": "[encoded data removed]",
      "text/plain": [
       "<Figure size 432x288 with 1 Axes>"
      ]
     },
     "metadata": {
      "needs_background": "light"
     },
     "output_type": "display_data"
    },
    {
     "data": {
      "text/plain": [
       "<Figure size 432x288 with 0 Axes>"
      ]
     },
     "metadata": {},
     "output_type": "display_data"
    }
   ],
   "source": [
    "\n",
    "import matplotlib.image  as mpimg\n",
    "import matplotlib.pyplot as plt\n",
    "\n",
    "#-----------------------------------------------------------\n",
    "# Retrieve a list of list results on training and test data\n",
    "# sets for each training epoch\n",
    "#-----------------------------------------------------------\n",
    "acc=history.history['acc']\n",
    "val_acc=history.history['val_acc']\n",
    "loss=history.history['loss']\n",
    "val_loss=history.history['val_loss']\n",
    "\n",
    "epochs=range(len(acc)) # Get number of epochs\n",
    "\n",
    "#------------------------------------------------\n",
    "# Plot training and validation accuracy per epoch\n",
    "#------------------------------------------------\n",
    "plt.plot(epochs, acc, 'r', \"Training Accuracy\")\n",
    "plt.plot(epochs, val_acc, 'b', \"Validation Accuracy\")\n",
    "plt.title('Training and validation accuracy')\n",
    "plt.figure()\n",
    "\n",
    "#------------------------------------------------\n",
    "# Plot training and validation loss per epoch\n",
    "#------------------------------------------------\n",
    "plt.plot(epochs, loss, 'r', \"Training Loss\")\n",
    "plt.plot(epochs, val_loss, 'b', \"Validation Loss\")\n",
    "plt.figure()"
   ]
  },
  {
   "cell_type": "code",
   "execution_count": 31,
   "metadata": {},
   "outputs": [
    {
     "name": "stdout",
     "output_type": "stream",
     "text": [
      "[1.]\n",
      "dog/cat8.jpg is a dog\n"
     ]
    }
   ],
   "source": [
    "import numpy as np\n",
    "from tensorflow.keras.preprocessing import image\n",
    "import os\n",
    "\n",
    "path = \"dog/cat8.jpg\"\n",
    "# assert os.path.isfile(path)\n",
    "# f = open(path, \"r\")\n",
    "\n",
    "# # predicting images\n",
    "# path = 'dog'\n",
    "img = image.load_img(path, target_size=(150, 150))\n",
    "x = image.img_to_array(img)\n",
    "x = np.expand_dims(x, axis=0)\n",
    "\n",
    "images = np.vstack([x])\n",
    "classes = model.predict(images, batch_size=10)\n",
    "print(classes[0])\n",
    "if classes[0]>0.5:\n",
    "    print(path + \" is a dog\")\n",
    "else:\n",
    "    print(path + \" is a cat\")"
   ]
  },
  {
   "cell_type": "code",
   "execution_count": null,
   "metadata": {},
   "outputs": [],
   "source": []
  }
 ],
 "metadata": {
  "kernelspec": {
   "display_name": "Python 3",
   "language": "python",
   "name": "python3"
  },
  "language_info": {
   "codemirror_mode": {
    "name": "ipython",
    "version": 3
   },
   "file_extension": ".py",
   "mimetype": "text/x-python",
   "name": "python",
   "nbconvert_exporter": "python",
   "pygments_lexer": "ipython3",
   "version": "3.7.7"
  }
 },
 "nbformat": 4,
 "nbformat_minor": 4
}
